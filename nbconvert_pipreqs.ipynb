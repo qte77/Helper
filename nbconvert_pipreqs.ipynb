{
  "nbformat": 4,
  "nbformat_minor": 0,
  "metadata": {
    "colab": {
      "name": "nbconvert_pipreqs.ipynb",
      "provenance": [],
      "collapsed_sections": [],
      "private_outputs": true
    },
    "kernelspec": {
      "name": "python3",
      "display_name": "Python 3"
    },
    "language_info": {
      "name": "python"
    },
    "gpuClass": "standard"
  },
  "cells": [
    {
      "cell_type": "code",
      "source": [
        "import sys\n",
        "!{sys.executable} -m pip install -qqq pipreqs"
      ],
      "metadata": {
        "id": "vBlBB461RhkW"
      },
      "execution_count": null,
      "outputs": []
    },
    {
      "cell_type": "code",
      "source": [
        "from google.colab import drive\n",
        "import pipreqs\n",
        "import os"
      ],
      "metadata": {
        "id": "8t-OdlewSnQm"
      },
      "execution_count": null,
      "outputs": []
    },
    {
      "cell_type": "code",
      "source": [
        "gdrive = '/gdrive'\n",
        "nb_dir = f'{gdrive}/MyDrive/Colab Notebooks'"
      ],
      "metadata": {
        "id": "1XdYifl1Sq-_"
      },
      "execution_count": null,
      "outputs": []
    },
    {
      "cell_type": "code",
      "source": [
        "drive.mount(gdrive)\n",
        "os.chdir(nb_dir)"
      ],
      "metadata": {
        "id": "5w5KWntWS8at"
      },
      "execution_count": null,
      "outputs": []
    },
    {
      "cell_type": "code",
      "execution_count": null,
      "metadata": {
        "id": "8DpoiCsHGM03"
      },
      "outputs": [],
      "source": [
        "%%shell\n",
        "#https://gist.github.com/lorenzoraimondi/229ca75eead9ae16a0fec4d98f98a345\n",
        "#TODO handle space in filenames to not create multiple files\n",
        "#!/bin/bash\n",
        "\n",
        "PROJECT_PATH=.\n",
        "CONVERTED_PATH=\"${PROJECT_PATH}/converted\"\n",
        "#PIPREQS_ENCODING=\"utf-8\"\n",
        "\n",
        "mkdir -p $CONVERTED_PATH\n",
        "\n",
        "filenames=$(find $PROJECT_PATH -iname \"*.ipynb\")\n",
        "\n",
        "num_files=$(echo \"$filenames\" | wc -l)\n",
        "num=0\n",
        "\n",
        "echo \"Converting Jupyter Notebooks...\"\n",
        "\n",
        "for f in $filenames\n",
        "do\n",
        "\t((num++))\n",
        "\toutname=${f//.\\//}\n",
        "\toutname=\"$(echo ${outname// /_} | tr \\/ _).py\"\n",
        "\toutpath=\"${CONVERTED_PATH}/${outname//.ipynb.py/}\"\n",
        "  echo \"[$num/$num_files] ${outname}\"\n",
        "\tmkdir -p $outpath\n",
        "\tpython -m jupyter nbconvert --to python --output=$outname --output-dir=$outpath $f\n",
        "\t#--encoding $PIPREQS_ENCODING --debug\n",
        "\tpython -m pipreqs.pipreqs --force --savepath=\"${outpath}/requirements.txt\" $outpath\n",
        "done\n",
        "\n",
        "#rm -rf converted/"
      ]
    }
  ]
}