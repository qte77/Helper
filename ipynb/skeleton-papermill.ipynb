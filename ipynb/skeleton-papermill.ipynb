{
    "cells": [
        {
            "cell_type": "code",
            "metadata": {
                "tags": ["parameters"]
            },
            "source": []
        }
    ],
    "metadata": {},
    "nbformat": 4,
    "nbformat_minor": 5
}
