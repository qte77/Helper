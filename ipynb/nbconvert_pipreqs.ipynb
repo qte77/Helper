{
  "cells": [
    {
      "cell_type": "markdown",
      "metadata": {},
      "source": [
        "#convert all ipynb inside `nb_dir` to py into subfolders\n",
        "#and extract used modules with `pipreqs` into respective subfolders "
      ]
    },
    {
      "cell_type": "code",
      "execution_count": null,
      "metadata": {
        "id": "vBlBB461RhkW"
      },
      "outputs": [],
      "source": [
        "from sys import executable\n",
        "from os import chdir"
      ]
    },
    {
      "cell_type": "code",
      "execution_count": null,
      "metadata": {},
      "outputs": [],
      "source": [
        "!{executable} -m pip install -qqq pipreqs"
      ]
    },
    {
      "cell_type": "code",
      "execution_count": null,
      "metadata": {
        "id": "8t-OdlewSnQm"
      },
      "outputs": [],
      "source": [
        "from google.colab.drive import mount\n",
        "import pipreqs"
      ]
    },
    {
      "cell_type": "code",
      "execution_count": null,
      "metadata": {
        "id": "1XdYifl1Sq-_"
      },
      "outputs": [],
      "source": [
        "gdrive = '/gdrive'\n",
        "nb_dir = f'{gdrive}/MyDrive/Colab Notebooks'"
      ]
    },
    {
      "cell_type": "code",
      "execution_count": null,
      "metadata": {
        "id": "5w5KWntWS8at"
      },
      "outputs": [],
      "source": [
        "mount(gdrive)\n",
        "chdir(nb_dir)"
      ]
    },
    {
      "cell_type": "code",
      "execution_count": null,
      "metadata": {
        "id": "8DpoiCsHGM03"
      },
      "outputs": [],
      "source": [
        "%%shell\n",
        "#https://gist.github.com/lorenzoraimondi/229ca75eead9ae16a0fec4d98f98a345\n",
        "#TODO handle space in filenames to not create multiple files\n",
        "#!/bin/bash\n",
        "\n",
        "PROJECT_PATH=\".\"\n",
        "CONVERTED_PATH=\"${PROJECT_PATH}/converted\"\n",
        "#PIPREQS_ENCODING=\"utf-8\"\n",
        "\n",
        "mkdir -p $CONVERTED_PATH\n",
        "\n",
        "filenames=$(find $PROJECT_PATH -iname \"*.ipynb\")\n",
        "\n",
        "num_files=$(echo \"$filenames\" | wc -l)\n",
        "num=0\n",
        "\n",
        "echo \"Converting Jupyter Notebooks...\"\n",
        "\n",
        "for f in $filenames\n",
        "do\n",
        "\t((num++))\n",
        "\toutname=${f//.\\//}\n",
        "\toutname=\"$(echo ${outname// /_} | tr \\/ _).py\"\n",
        "\toutpath=\"${CONVERTED_PATH}/${outname//.ipynb.py/}\"\n",
        "  \techo \"[$num/$num_files] ${outname}\"\n",
        "\tmkdir -p $outpath\n",
        "\t{executable} -m jupyter nbconvert --to python --output=$outname --output-dir=$outpath $f\n",
        "\t#--encoding $PIPREQS_ENCODING --debug\n",
        "\t{executable} -m pipreqs.pipreqs --force --savepath=\"${outpath}/requirements.txt\" $outpath\n",
        "\t#TODO convert to Pipfile\n",
        "\t#{executable} -m pipenv install  ${outpath}\n",
        "done"
      ]
    }
  ],
  "metadata": {
    "colab": {
      "collapsed_sections": [],
      "name": "nbconvert_pipreqs.ipynb",
      "private_outputs": true,
      "provenance": []
    },
    "gpuClass": "standard",
    "kernelspec": {
      "display_name": "Python 3",
      "name": "python3"
    },
    "language_info": {
      "name": "python"
    }
  },
  "nbformat": 4,
  "nbformat_minor": 0
}
